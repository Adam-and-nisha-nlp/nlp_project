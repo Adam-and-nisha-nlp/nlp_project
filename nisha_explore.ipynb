{
 "cells": [
  {
   "cell_type": "code",
   "execution_count": 1,
   "id": "3dbaf10f-2887-4919-ae7d-fd565ea5c067",
   "metadata": {},
   "outputs": [
    {
     "ename": "SyntaxError",
     "evalue": "invalid decimal literal (wrangle.py, line 162)",
     "output_type": "error",
     "traceback": [
      "Traceback \u001b[0;36m(most recent call last)\u001b[0m:\n",
      "\u001b[0m  File \u001b[1;32m/opt/homebrew/anaconda3/lib/python3.10/site-packages/IPython/core/interactiveshell.py:3508\u001b[0m in \u001b[1;35mrun_code\u001b[0m\n    exec(code_obj, self.user_global_ns, self.user_ns)\u001b[0m\n",
      "\u001b[0;36m  Cell \u001b[0;32mIn[1], line 26\u001b[0;36m\n\u001b[0;31m    import wrangle as w\u001b[0;36m\n",
      "\u001b[0;36m  File \u001b[0;32m~/codeup-data-science/nlp_project/wrangle.py:162\u001b[0;36m\u001b[0m\n\u001b[0;31m    >>>>>>> 1c2134deb7109c125bdc37e95843a4537b7acd7d\u001b[0m\n\u001b[0m            ^\u001b[0m\n\u001b[0;31mSyntaxError\u001b[0m\u001b[0;31m:\u001b[0m invalid decimal literal\n"
     ]
    }
   ],
   "source": [
    "# standarad imports\n",
    "import numpy as np\n",
    "import pandas as pd\n",
    "import matplotlib.pyplot as plt\n",
    "import seaborn as sns\n",
    "import unicodedata\n",
    "\n",
    "# import regular expression operations\n",
    "import re\n",
    "\n",
    "# import natural language toolkit\n",
    "import nltk\n",
    "# import stopwords list\n",
    "from nltk.corpus import stopwords\n",
    "# import wordcloud\n",
    "from wordcloud import WordCloud\n",
    "\n",
    "import requests\n",
    "from bs4 import BeautifulSoup\n",
    "import os\n",
    "from pprint import pprint \n",
    "import time\n",
    "import json\n",
    "\n",
    "import acquire as a\n",
    "import wrangle as w\n",
    "\n",
    "from sklearn.feature_extraction.text import CountVectorizer\n",
    "from sklearn.feature_extraction.text import TfidfVectorizer\n",
    "\n",
    "from sklearn.tree import DecisionTreeClassifier, plot_tree\n",
    "from sklearn.ensemble import RandomForestClassifier\n",
    "from sklearn.neighbors import KNeighborsClassifier\n",
    "from sklearn.linear_model import LogisticRegression\n",
    "\n"
   ]
  },
  {
   "cell_type": "markdown",
   "id": "a0e41d52-52be-42a6-b80c-e8c78d110cb8",
   "metadata": {},
   "source": [
    "# acquire"
   ]
  },
  {
   "cell_type": "code",
   "execution_count": null,
   "id": "fe1dc056-7355-4b41-83f2-392a1e5e9264",
   "metadata": {},
   "outputs": [],
   "source": [
    "data = pd.read_json('github_data.json')\n",
    "data"
   ]
  },
  {
   "cell_type": "code",
   "execution_count": null,
   "id": "c807290b-d8a9-4ef8-8880-bee46bbd5ea4",
   "metadata": {},
   "outputs": [],
   "source": [
    "df = pd.DataFrame(data)\n"
   ]
  },
  {
   "cell_type": "markdown",
   "id": "4e9b3e2f-516b-4b59-bdb7-cf13475f5887",
   "metadata": {},
   "source": [
    "# Prepare!"
   ]
  },
  {
   "cell_type": "code",
   "execution_count": null,
   "id": "c1a9899a-763a-4771-9e51-cc33f5024690",
   "metadata": {},
   "outputs": [],
   "source": [
    "#df = df.dropna()"
   ]
  },
  {
   "cell_type": "code",
   "execution_count": null,
   "id": "78d47f2c-9be2-4e91-96bf-b9e0e867be2d",
   "metadata": {},
   "outputs": [],
   "source": [
    "# text cleaning on a df column named 'readme'. removing special character and words.\n",
    "df.readme_contents = df.readme_contents.str.replace('[/,_,-,:,\"]', '', regex=True)\n",
    "\n",
    "df.readme_contents = df.readme_contents.str.replace('heavy', '').str.replace('check', '').str.replace('mark', '')"
   ]
  },
  {
   "cell_type": "code",
   "execution_count": null,
   "id": "670d1a34-4999-4a4f-85a3-87ce5bb850cc",
   "metadata": {},
   "outputs": [],
   "source": [
    "df.language.value_counts()\n"
   ]
  },
  {
   "cell_type": "code",
   "execution_count": null,
   "id": "fe3c411d-97cf-44e6-8407-313120650886",
   "metadata": {},
   "outputs": [],
   "source": []
  },
  {
   "cell_type": "code",
   "execution_count": null,
   "id": "8f4737d1-14fc-4b5f-a083-d57e04158cd1",
   "metadata": {},
   "outputs": [],
   "source": []
  },
  {
   "cell_type": "code",
   "execution_count": null,
   "id": "3fde8b88-278d-4581-b3fb-b045a5af8461",
   "metadata": {},
   "outputs": [],
   "source": [
    "df['clean_norm_token'] = df.readme_contents.apply(w.tokenize).apply(w.basic_clean).apply(w.remove_stopwords).apply(w.lemmatize)\n",
    "\n",
    "\n",
    "# tokenizes, cleans, remove stopwprds, lemmatize the text in the readme_contents and \n",
    "#stores the processed text in a new column clean_norm_token\n",
    "\n",
    "df.clean_norm_token = df.clean_norm_token.str.replace('124', '')\n",
    "\n",
    "# it removes any occurences of the string '124' from the clean_norm_token column"
   ]
  },
  {
   "cell_type": "code",
   "execution_count": null,
   "id": "b921ae45-0a91-43c5-b679-9b22f18a8d90",
   "metadata": {},
   "outputs": [],
   "source": [
    "#Combine 'Jupyter Notebook' with 'Other' and create a new value 'Other'\n",
    "df['language'] = df['language'].replace({'Jupyter Notebook': 'Other'})"
   ]
  },
  {
   "cell_type": "code",
   "execution_count": null,
   "id": "eaf93d17-2733-4ad9-b56f-58977ae830b7",
   "metadata": {},
   "outputs": [],
   "source": []
  },
  {
   "cell_type": "code",
   "execution_count": null,
   "id": "0a5f461c-b7c5-48b6-8058-564deedda3c0",
   "metadata": {},
   "outputs": [],
   "source": [
    "#in language column replace language with other if it is not in the top 3 languages\n",
    "top_5 = df.language.value_counts().head(5).index.tolist()\n",
    "print(top_5)\n",
    "df.language = df.language.apply(lambda x: x if x in top_5 else 'other')"
   ]
  },
  {
   "cell_type": "code",
   "execution_count": null,
   "id": "ec1ca323-2d34-4b19-96fe-8359bd15199b",
   "metadata": {},
   "outputs": [],
   "source": [
    "# List of languages to combine into \"Other\"\n",
    "languages_to_combine = ['Jupyter Notebook', 'MATLAB', 'TeX', 'C#', 'Matlab', 'Objective-C', 'Dart']\n",
    "# Replace the specified languages with \"Other\"\n",
    "df['language'] = df['language'].replace(languages_to_combine, 'other')\n",
    "df"
   ]
  },
  {
   "cell_type": "code",
   "execution_count": null,
   "id": "b4abe076-96eb-486f-a7af-b8966e802b3f",
   "metadata": {},
   "outputs": [],
   "source": [
    "df.language.value_counts()\n"
   ]
  },
  {
   "cell_type": "code",
   "execution_count": null,
   "id": "29b70f47-969c-47a1-9be7-55049e248f6d",
   "metadata": {},
   "outputs": [],
   "source": [
    "#baseline is 47%\n",
    "df.language.value_counts(normalize=True)\n",
    "#the relative frequency of each programming language in  dataset."
   ]
  },
  {
   "cell_type": "code",
   "execution_count": null,
   "id": "f55936c7-9a21-4493-8eb8-635fbf6c7bc3",
   "metadata": {},
   "outputs": [],
   "source": []
  },
  {
   "cell_type": "markdown",
   "id": "5fe124e8-a62c-4e23-8ca6-5833660b44ec",
   "metadata": {},
   "source": [
    "# explore"
   ]
  },
  {
   "cell_type": "code",
   "execution_count": null,
   "id": "f4a633ba-dde3-46a8-ae82-9824954a7f27",
   "metadata": {},
   "outputs": [],
   "source": [
    "#calls the split function from wrangle.py\n",
    "train, validate, test = w.split_function_cat_target(df, \"language\")"
   ]
  },
  {
   "cell_type": "code",
   "execution_count": null,
   "id": "14dd7403-6cc8-40c6-a7a7-2ba811c397d7",
   "metadata": {},
   "outputs": [],
   "source": [
    "train.head()"
   ]
  },
  {
   "cell_type": "code",
   "execution_count": null,
   "id": "5b19f6a6-3a90-4ed4-ab58-0458830c8f5a",
   "metadata": {},
   "outputs": [],
   "source": [
    "python_words = w.clean(' '.join(train[train.language=='Python']['clean_norm_token']))\n",
    "jupyter_notebook_words = w.clean(' '.join(train[train.language=='Jupyter Notebook']['clean_norm_token']))\n",
    "html_words = w.clean(' '.join(train[train.language=='HTML']['clean_norm_token']))\n",
    "r_words = w.clean(' '.join(train[train.language=='R']['clean_norm_token']))\n",
    "other_words = w.clean(' '.join(train[train.language=='other']['clean_norm_token']))\n",
    "\n",
    "all_words = w.clean(' '.join(df['clean_norm_token']))\n",
    "#various programming languages and aggregating the words associated with each language"
   ]
  },
  {
   "cell_type": "code",
   "execution_count": null,
   "id": "7b8aa99e-e87c-4f82-a546-0b1b62569645",
   "metadata": {},
   "outputs": [],
   "source": [
    "#how often each word appears in various lists of words, \n",
    "#possibly corresponding to different programming languages or technologies.\n",
    "python_freq = pd.Series(python_words).value_counts()\n",
    "jupyter_notebook_freq = pd.Series(jupyter_notebook_words).value_counts()\n",
    "html_freq = pd.Series(html_words).value_counts()\n",
    "r_freq = pd.Series(r_words).value_counts()\n",
    "other_freq = pd.Series(other_words).value_counts()\n",
    "\n",
    "all_freq = pd.Series(all_words).value_counts()"
   ]
  },
  {
   "cell_type": "code",
   "execution_count": null,
   "id": "91e614c5-d957-4032-92e2-f51e951b557e",
   "metadata": {},
   "outputs": [],
   "source": [
    "def make_ngrams(words, n):\n",
    "    return pd.Series(nltk.ngrams(words, n)).value_counts().head(20)\n",
    "    "
   ]
  },
  {
   "cell_type": "code",
   "execution_count": null,
   "id": "a1f0e73b-c0d8-45b4-8072-be00fefea31a",
   "metadata": {},
   "outputs": [],
   "source": [
    "def plot_bigrams(words):\n",
    "    word_data = {k[0] + ' ' + k[1]: v for k, v in words.to_dict().items()}\n",
    "    \n",
    "    word_img = WordCloud(background_color='white', width=800, height=400).generate_from_frequencies(word_data)\n",
    "    \n",
    "    plt.figure(figsize=(8, 4))\n",
    "    plt.imshow(word_img)\n",
    "    plt.axis('off')\n",
    "    plt.show()"
   ]
  },
  {
   "cell_type": "code",
   "execution_count": null,
   "id": "bc1106a2-0e9d-483a-b025-bad7f3b160fa",
   "metadata": {},
   "outputs": [],
   "source": [
    "plot_bigrams(make_ngrams(python_words,2))\n"
   ]
  },
  {
   "cell_type": "code",
   "execution_count": null,
   "id": "09ad582d-7c37-4135-8282-8400fcd51c4b",
   "metadata": {},
   "outputs": [],
   "source": [
    "plot_bigrams(make_ngrams(other_words,2))\n"
   ]
  },
  {
   "cell_type": "code",
   "execution_count": null,
   "id": "8930ed98-f563-46b2-a496-428793b083fe",
   "metadata": {},
   "outputs": [],
   "source": [
    "pd.Series(nltk.ngrams(python_words,2)).value_counts().head(20).plot.barh()\n",
    "#horizontal bar chart of the 20 most frequent bigrams  in the list python_words"
   ]
  },
  {
   "cell_type": "code",
   "execution_count": null,
   "id": "4c1471dd-3899-493c-8bca-fd84408082e4",
   "metadata": {},
   "outputs": [],
   "source": [
    "pd.Series(nltk.ngrams(other_words,2)).value_counts().head(20)\n"
   ]
  },
  {
   "cell_type": "markdown",
   "id": "3adf2aca-1914-4e91-a2a9-e833a18ca635",
   "metadata": {},
   "source": [
    "# explore questions"
   ]
  },
  {
   "cell_type": "markdown",
   "id": "0c335137-cccf-421d-addc-c77984893d4b",
   "metadata": {},
   "source": [
    "# 1. What are most frequent used words in python/other breast cancer repos?"
   ]
  },
  {
   "cell_type": "code",
   "execution_count": null,
   "id": "f67cff9b-c05c-4cb3-9e04-4f67aaaf05da",
   "metadata": {},
   "outputs": [],
   "source": [
    "word_counts[['python']].sort_values(by='python', ascending=False).head()\n"
   ]
  },
  {
   "cell_type": "code",
   "execution_count": null,
   "id": "dc13efc7-1c8d-4d12-b9f2-2e374d3f7108",
   "metadata": {},
   "outputs": [],
   "source": [
    "blog_img = WordCloud(background_color='white').generate_from_frequencies(python_freq.head(50))\n",
    "plt.figure(figsize=(8, 4))\n",
    "plt.imshow(blog_img)\n",
    "plt.axis('off')\n",
    "plt.show()"
   ]
  },
  {
   "cell_type": "code",
   "execution_count": null,
   "id": "1f6b70cb-8848-429a-a769-7c1bf1d604ef",
   "metadata": {},
   "outputs": [],
   "source": [
    "word_counts[['other']].sort_values(by='other', ascending=False).head()\n"
   ]
  },
  {
   "cell_type": "code",
   "execution_count": null,
   "id": "352eeb1f-9091-4fe5-8855-7716851f85d3",
   "metadata": {},
   "outputs": [],
   "source": [
    "blog_img = WordCloud(background_color='white').generate_from_frequencies(other_freq.head(30))\n",
    "plt.figure(figsize=(8, 4))\n",
    "plt.imshow(blog_img)\n",
    "plt.axis('off')\n",
    "plt.show()"
   ]
  },
  {
   "cell_type": "code",
   "execution_count": null,
   "id": "39615e86-c44e-4685-b30c-abbc5d2929dd",
   "metadata": {},
   "outputs": [],
   "source": []
  }
 ],
 "metadata": {
  "kernelspec": {
   "display_name": "Python 3 (ipykernel)",
   "language": "python",
   "name": "python3"
  },
  "language_info": {
   "codemirror_mode": {
    "name": "ipython",
    "version": 3
   },
   "file_extension": ".py",
   "mimetype": "text/x-python",
   "name": "python",
   "nbconvert_exporter": "python",
   "pygments_lexer": "ipython3",
   "version": "3.10.12"
  }
 },
 "nbformat": 4,
 "nbformat_minor": 5
}
