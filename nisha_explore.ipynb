{
 "cells": [
  {
   "cell_type": "code",
   "execution_count": 1,
   "id": "3dbaf10f-2887-4919-ae7d-fd565ea5c067",
   "metadata": {},
   "outputs": [],
   "source": [
    "# standarad imports\n",
    "import numpy as np\n",
    "import pandas as pd\n",
    "import matplotlib.pyplot as plt\n",
    "import seaborn as sns\n",
    "import unicodedata\n",
    "\n",
    "# import regular expression operations\n",
    "import re\n",
    "\n",
    "# import natural language toolkit\n",
    "import nltk\n",
    "# import stopwords list\n",
    "from nltk.corpus import stopwords\n",
    "# import wordcloud\n",
    "from wordcloud import WordCloud\n",
    "\n",
    "import requests\n",
    "from bs4 import BeautifulSoup\n",
    "import os\n",
    "from pprint import pprint \n",
    "import time\n",
    "import json\n",
    "\n",
    "import acquire as a\n",
    "import wrangle as w\n",
    "\n",
    "from sklearn.feature_extraction.text import CountVectorizer\n",
    "from sklearn.feature_extraction.text import TfidfVectorizer\n",
    "\n",
    "from sklearn.tree import DecisionTreeClassifier, plot_tree\n",
    "from sklearn.ensemble import RandomForestClassifier\n",
    "from sklearn.neighbors import KNeighborsClassifier\n",
    "from sklearn.linear_model import LogisticRegression\n",
    "\n"
   ]
  },
  {
   "cell_type": "markdown",
   "id": "a0e41d52-52be-42a6-b80c-e8c78d110cb8",
   "metadata": {},
   "source": [
    "# acquire"
   ]
  },
  {
   "cell_type": "code",
   "execution_count": 15,
   "id": "fe1dc056-7355-4b41-83f2-392a1e5e9264",
   "metadata": {},
   "outputs": [
    {
     "data": {
      "text/html": [
       "<div>\n",
       "<style scoped>\n",
       "    .dataframe tbody tr th:only-of-type {\n",
       "        vertical-align: middle;\n",
       "    }\n",
       "\n",
       "    .dataframe tbody tr th {\n",
       "        vertical-align: top;\n",
       "    }\n",
       "\n",
       "    .dataframe thead th {\n",
       "        text-align: right;\n",
       "    }\n",
       "</style>\n",
       "<table border=\"1\" class=\"dataframe\">\n",
       "  <thead>\n",
       "    <tr style=\"text-align: right;\">\n",
       "      <th></th>\n",
       "      <th>repo</th>\n",
       "      <th>language</th>\n",
       "      <th>readme_contents</th>\n",
       "    </tr>\n",
       "  </thead>\n",
       "  <tbody>\n",
       "    <tr>\n",
       "      <th>0</th>\n",
       "      <td>/nyukat/breast_cancer_classifier</td>\n",
       "      <td>Jupyter Notebook</td>\n",
       "      <td># Deep Neural Networks Improve Radiologists' P...</td>\n",
       "    </tr>\n",
       "    <tr>\n",
       "      <th>1</th>\n",
       "      <td>/lishen/end2end-all-conv</td>\n",
       "      <td>Jupyter Notebook</td>\n",
       "      <td>Shield: [![CC BY-NC-SA 4.0][cc-by-nc-sa-shield...</td>\n",
       "    </tr>\n",
       "    <tr>\n",
       "      <th>2</th>\n",
       "      <td>/ImagingLab/ICIAR2018</td>\n",
       "      <td>Python</td>\n",
       "      <td># ICIAR2018\\n### Two-Stage Convolutional Neura...</td>\n",
       "    </tr>\n",
       "    <tr>\n",
       "      <th>3</th>\n",
       "      <td>/Jean-njoroge/Breast-cancer-risk-prediction</td>\n",
       "      <td>Jupyter Notebook</td>\n",
       "      <td># Breast-cancer-risk-prediction\\n\\n&gt; Necessity...</td>\n",
       "    </tr>\n",
       "    <tr>\n",
       "      <th>4</th>\n",
       "      <td>/abhinavsagar/breast-cancer-classification</td>\n",
       "      <td>Jupyter Notebook</td>\n",
       "      <td># Breast-cancer-classification\\n\\nBreast Cance...</td>\n",
       "    </tr>\n",
       "    <tr>\n",
       "      <th>...</th>\n",
       "      <td>...</td>\n",
       "      <td>...</td>\n",
       "      <td>...</td>\n",
       "    </tr>\n",
       "    <tr>\n",
       "      <th>90</th>\n",
       "      <td>/BishalDali/Breast_Cancer_Prediction</td>\n",
       "      <td>Jupyter Notebook</td>\n",
       "      <td># Breast_Cancer_Prediction</td>\n",
       "    </tr>\n",
       "    <tr>\n",
       "      <th>91</th>\n",
       "      <td>/IndianAIProduction-Channel/Breast-Cancer-Dete...</td>\n",
       "      <td>HTML</td>\n",
       "      <td># Breast-Cancer-Detection-App\\n Breast Cancer ...</td>\n",
       "    </tr>\n",
       "    <tr>\n",
       "      <th>92</th>\n",
       "      <td>/gmineo/Breast-Cancer-Prediction-Project</td>\n",
       "      <td>R</td>\n",
       "      <td># Breast-Cancer-Prediction\\n\\nChoose-your-own ...</td>\n",
       "    </tr>\n",
       "    <tr>\n",
       "      <th>93</th>\n",
       "      <td>/iharnoor/BreastCancer-Kmeans</td>\n",
       "      <td>Python</td>\n",
       "      <td># BreastCancer-Kmeans\\nClustering the data int...</td>\n",
       "    </tr>\n",
       "    <tr>\n",
       "      <th>94</th>\n",
       "      <td>/sagnikghoshcr7/Breast-Cancer-Prediction</td>\n",
       "      <td>Jupyter Notebook</td>\n",
       "      <td># Breast-Cancer-Prediction\\n\\nDiagnosing Malig...</td>\n",
       "    </tr>\n",
       "  </tbody>\n",
       "</table>\n",
       "<p>95 rows × 3 columns</p>\n",
       "</div>"
      ],
      "text/plain": [
       "                                                 repo          language  \\\n",
       "0                    /nyukat/breast_cancer_classifier  Jupyter Notebook   \n",
       "1                            /lishen/end2end-all-conv  Jupyter Notebook   \n",
       "2                               /ImagingLab/ICIAR2018            Python   \n",
       "3         /Jean-njoroge/Breast-cancer-risk-prediction  Jupyter Notebook   \n",
       "4          /abhinavsagar/breast-cancer-classification  Jupyter Notebook   \n",
       "..                                                ...               ...   \n",
       "90               /BishalDali/Breast_Cancer_Prediction  Jupyter Notebook   \n",
       "91  /IndianAIProduction-Channel/Breast-Cancer-Dete...              HTML   \n",
       "92           /gmineo/Breast-Cancer-Prediction-Project                 R   \n",
       "93                      /iharnoor/BreastCancer-Kmeans            Python   \n",
       "94           /sagnikghoshcr7/Breast-Cancer-Prediction  Jupyter Notebook   \n",
       "\n",
       "                                      readme_contents  \n",
       "0   # Deep Neural Networks Improve Radiologists' P...  \n",
       "1   Shield: [![CC BY-NC-SA 4.0][cc-by-nc-sa-shield...  \n",
       "2   # ICIAR2018\\n### Two-Stage Convolutional Neura...  \n",
       "3   # Breast-cancer-risk-prediction\\n\\n> Necessity...  \n",
       "4   # Breast-cancer-classification\\n\\nBreast Cance...  \n",
       "..                                                ...  \n",
       "90                         # Breast_Cancer_Prediction  \n",
       "91  # Breast-Cancer-Detection-App\\n Breast Cancer ...  \n",
       "92  # Breast-Cancer-Prediction\\n\\nChoose-your-own ...  \n",
       "93  # BreastCancer-Kmeans\\nClustering the data int...  \n",
       "94  # Breast-Cancer-Prediction\\n\\nDiagnosing Malig...  \n",
       "\n",
       "[95 rows x 3 columns]"
      ]
     },
     "execution_count": 15,
     "metadata": {},
     "output_type": "execute_result"
    }
   ],
   "source": [
    "data = pd.read_json('github_data.json')\n",
    "data"
   ]
  },
  {
   "cell_type": "code",
   "execution_count": 3,
   "id": "c807290b-d8a9-4ef8-8880-bee46bbd5ea4",
   "metadata": {},
   "outputs": [],
   "source": [
    "df = pd.DataFrame(data)"
   ]
  },
  {
   "cell_type": "markdown",
   "id": "4e9b3e2f-516b-4b59-bdb7-cf13475f5887",
   "metadata": {},
   "source": [
    "# Prepare!"
   ]
  },
  {
   "cell_type": "code",
   "execution_count": 4,
   "id": "c1a9899a-763a-4771-9e51-cc33f5024690",
   "metadata": {},
   "outputs": [],
   "source": [
    "#df = df.dropna()"
   ]
  },
  {
   "cell_type": "code",
   "execution_count": 5,
   "id": "78d47f2c-9be2-4e91-96bf-b9e0e867be2d",
   "metadata": {},
   "outputs": [],
   "source": [
    "# text cleaning on a df column named 'readme'. removing special character and words.\n",
    "df.readme_contents = df.readme_contents.str.replace('[/,_,-,:,\"]', '', regex=True)\n",
    "\n",
    "df.readme_contents = df.readme_contents.str.replace('heavy', '').str.replace('check', '').str.replace('mark', '')"
   ]
  },
  {
   "cell_type": "code",
   "execution_count": 6,
   "id": "670d1a34-4999-4a4f-85a3-87ce5bb850cc",
   "metadata": {},
   "outputs": [
    {
     "data": {
      "text/plain": [
       "language\n",
       "Python              45\n",
       "Jupyter Notebook    29\n",
       "R                    4\n",
       "HTML                 4\n",
       "MATLAB               3\n",
       "TeX                  2\n",
       "C#                   2\n",
       "Matlab               2\n",
       "Objective-C          1\n",
       "Dart                 1\n",
       "Name: count, dtype: int64"
      ]
     },
     "execution_count": 6,
     "metadata": {},
     "output_type": "execute_result"
    }
   ],
   "source": [
    "df.language.value_counts()\n"
   ]
  },
  {
   "cell_type": "code",
   "execution_count": null,
   "id": "fe3c411d-97cf-44e6-8407-313120650886",
   "metadata": {},
   "outputs": [],
   "source": []
  },
  {
   "cell_type": "code",
   "execution_count": null,
   "id": "8f4737d1-14fc-4b5f-a083-d57e04158cd1",
   "metadata": {},
   "outputs": [],
   "source": []
  },
  {
   "cell_type": "code",
   "execution_count": 8,
   "id": "3fde8b88-278d-4581-b3fb-b045a5af8461",
   "metadata": {},
   "outputs": [],
   "source": [
    "df['clean_norm_token'] = df.readme_contents.apply(w.tokenize).apply(w.basic_clean).apply(w.remove_stopwords).apply(w.lemmatize)\n",
    "\n",
    "# tokenizes, cleans, remove stopwprds, lemmatize the text in the readme_contents and \n",
    "#stores the processed text in a new column clean_norm_token\n",
    "\n",
    "df.clean_norm_token = df.clean_norm_token.str.replace('124', '')\n",
    "\n",
    "# it removes any occurences of the string '124' from the clean_norm_token column"
   ]
  },
  {
   "cell_type": "code",
   "execution_count": 9,
   "id": "0a5f461c-b7c5-48b6-8058-564deedda3c0",
   "metadata": {},
   "outputs": [
    {
     "name": "stdout",
     "output_type": "stream",
     "text": [
      "['Python', 'Jupyter Notebook', 'R', 'HTML', 'MATLAB']\n"
     ]
    }
   ],
   "source": [
    "#in language column replace language with other if it is not in the top 3 languages\n",
    "top_5 = df.language.value_counts().head(5).index.tolist()\n",
    "print(top_5)\n",
    "df.language = df.language.apply(lambda x: x if x in top_5 else 'other')"
   ]
  },
  {
   "cell_type": "code",
   "execution_count": 10,
   "id": "b4abe076-96eb-486f-a7af-b8966e802b3f",
   "metadata": {},
   "outputs": [
    {
     "data": {
      "text/plain": [
       "language\n",
       "Python              45\n",
       "Jupyter Notebook    29\n",
       "other               10\n",
       "R                    4\n",
       "HTML                 4\n",
       "MATLAB               3\n",
       "Name: count, dtype: int64"
      ]
     },
     "execution_count": 10,
     "metadata": {},
     "output_type": "execute_result"
    }
   ],
   "source": [
    "df.language.value_counts()\n"
   ]
  },
  {
   "cell_type": "code",
   "execution_count": 13,
   "id": "29b70f47-969c-47a1-9be7-55049e248f6d",
   "metadata": {},
   "outputs": [
    {
     "data": {
      "text/plain": [
       "language\n",
       "Python              0.473684\n",
       "Jupyter Notebook    0.305263\n",
       "other               0.105263\n",
       "R                   0.042105\n",
       "HTML                0.042105\n",
       "MATLAB              0.031579\n",
       "Name: proportion, dtype: float64"
      ]
     },
     "execution_count": 13,
     "metadata": {},
     "output_type": "execute_result"
    }
   ],
   "source": [
    "#baseline is 47%\n",
    "df.language.value_counts(normalize=True)\n",
    "#the relative frequency of each programming language in  dataset."
   ]
  },
  {
   "cell_type": "code",
   "execution_count": 16,
   "id": "f4a633ba-dde3-46a8-ae82-9824954a7f27",
   "metadata": {},
   "outputs": [],
   "source": [
    "#calls the split function from wrangle.py\n",
    "train, validate, test = w.split_function_cat_target(df, \"language\")"
   ]
  },
  {
   "cell_type": "code",
   "execution_count": null,
   "id": "14dd7403-6cc8-40c6-a7a7-2ba811c397d7",
   "metadata": {},
   "outputs": [],
   "source": []
  }
 ],
 "metadata": {
  "kernelspec": {
   "display_name": "Python 3 (ipykernel)",
   "language": "python",
   "name": "python3"
  },
  "language_info": {
   "codemirror_mode": {
    "name": "ipython",
    "version": 3
   },
   "file_extension": ".py",
   "mimetype": "text/x-python",
   "name": "python",
   "nbconvert_exporter": "python",
   "pygments_lexer": "ipython3",
   "version": "3.10.12"
  }
 },
 "nbformat": 4,
 "nbformat_minor": 5
}
