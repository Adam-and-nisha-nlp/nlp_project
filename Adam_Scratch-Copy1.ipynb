{
 "cells": [
  {
   "cell_type": "code",
   "execution_count": null,
   "id": "aa7e8fa6",
   "metadata": {},
   "outputs": [],
   "source": [
    "# Goals: to find 800 repository and get ML to classify its language"
   ]
  },
  {
   "cell_type": "markdown",
   "id": "72b0013b",
   "metadata": {},
   "source": [
    "# ACQUIRE"
   ]
  },
  {
   "cell_type": "code",
   "execution_count": 1,
   "id": "f48ee9ae",
   "metadata": {},
   "outputs": [],
   "source": [
    "# import\n",
    "import requests\n",
    "import json\n",
    "from bs4 import BeautifulSoup"
   ]
  },
  {
   "cell_type": "code",
   "execution_count": 2,
   "id": "937d577a",
   "metadata": {},
   "outputs": [],
   "source": [
    "# set up API request headers\n",
    "from env import github_token, github_username\n",
    "\n",
    "headers = {\n",
    "    \"Authorization\": f\"token {github_token}\",\n",
    "    \"User-Agent\": github_username\n",
    "}"
   ]
  },
  {
   "cell_type": "code",
   "execution_count": 3,
   "id": "9e7a7ca7",
   "metadata": {},
   "outputs": [],
   "source": [
    "# make API requests to get repository names\n",
    "language = \"python\"\n",
    "api_url = f\"https://api.github.com/search/repositories?q=language:{language}&sort=stars&order=desc&per_page=100\"\n",
    "response = requests.get(api_url, headers=headers)\n",
    "\n",
    "if response.status_code == 200:\n",
    "    repositories = response.json()[\"items\"]\n",
    "else:\n",
    "    print(f\"Failed to fetch repository list. Status code: {response.status_code}\")\n",
    "    exit()"
   ]
  },
  {
   "cell_type": "markdown",
   "id": "a1b6a075",
   "metadata": {},
   "source": [
    "Goal: add all these results to a list, then find a way to go through and request another 10 results with always adding them to a list. clean up emphasis text from entries"
   ]
  },
  {
   "cell_type": "code",
   "execution_count": 6,
   "id": "c7828a6c",
   "metadata": {},
   "outputs": [],
   "source": [
    "import requests\n",
    "import json\n",
    "from env import github_token, github_username\n",
    "\n",
    "# Define the headers with your token and username\n",
    "headers = {\n",
    "    \"Authorization\": f\"token {github_token}\",\n",
    "    \"User-Agent\": github_username\n",
    "}\n",
    "\n",
    "# Define a function to get repositories based on a query and page\n",
    "def get_repositories(query, sort=\"stars\", order=\"desc\", page=1):\n",
    "    base_url = \"https://api.github.com/search/repositories\"\n",
    "    params = {\n",
    "        \"q\": query,\n",
    "        \"sort\": sort,\n",
    "        \"order\": order,\n",
    "        \"per_page\": 10,  # You can get up to 100 results per page.\n",
    "        \"page\": page  # Specify the page number\n",
    "    }\n",
    "    response = requests.get(base_url, headers=headers, params=params)\n",
    "    if response.status_code == 200:\n",
    "        return response.json()\n",
    "    else:\n",
    "        return None\n",
    "\n",
    "# Search for breast cancer related repositories and handle pagination\n",
    "query = \"breast cancer\"\n",
    "page = 1\n",
    "\n",
    "# Create a list to collect the repository data\n",
    "repository_data = []\n",
    "\n",
    "while page <= 10:\n",
    "    response_json = get_repositories(query, page=page)\n",
    "    if response_json is None:\n",
    "        print(f\"Failed to fetch page {page} of repositories.\")\n",
    "        break\n",
    "\n",
    "    # Extract and collect repository names\n",
    "    for repo in response_json[\"items\"]:\n",
    "        repository_data.append({\n",
    "            \"full_name\": repo[\"full_name\"]\n",
    "        })\n",
    "\n",
    "    # Check if there are more pages\n",
    "    if \"Link\" in response.headers:\n",
    "        next_link = response.headers[\"Link\"]\n",
    "        if 'rel=\"next\"' not in next_link:\n",
    "            break\n",
    "    else:\n",
    "        break\n",
    "    page += 1\n"
   ]
  },
  {
   "cell_type": "code",
   "execution_count": 7,
   "id": "384ee963",
   "metadata": {},
   "outputs": [
    {
     "name": "stdout",
     "output_type": "stream",
     "text": [
      "Data saved to data2.json\n"
     ]
    }
   ],
   "source": [
    "# ... (Previous code remains the same)\n",
    "\n",
    "# Extract only the repository names from the dictionaries\n",
    "repository_names = [repo_data[\"full_name\"] for repo_data in repository_data]\n",
    "\n",
    "# Save the repository names list to a JSON file\n",
    "with open(\"breast_cancer_repository.json\", \"w\") as json_file:\n",
    "    json.dump(repository_names, json_file, indent=2)\n",
    "\n",
    "print(\"Data saved to data2.json\")\n"
   ]
  },
  {
   "cell_type": "code",
   "execution_count": null,
   "id": "44a2f085",
   "metadata": {},
   "outputs": [],
   "source": []
  },
  {
   "cell_type": "code",
   "execution_count": null,
   "id": "37d89c8a",
   "metadata": {},
   "outputs": [],
   "source": []
  }
 ],
 "metadata": {
  "kernelspec": {
   "display_name": "Python 3 (ipykernel)",
   "language": "python",
   "name": "python3"
  },
  "language_info": {
   "codemirror_mode": {
    "name": "ipython",
    "version": 3
   },
   "file_extension": ".py",
   "mimetype": "text/x-python",
   "name": "python",
   "nbconvert_exporter": "python",
   "pygments_lexer": "ipython3",
   "version": "3.10.9"
  }
 },
 "nbformat": 4,
 "nbformat_minor": 5
}
