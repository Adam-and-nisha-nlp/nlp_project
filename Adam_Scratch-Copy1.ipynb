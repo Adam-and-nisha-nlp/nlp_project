{
 "cells": [
  {
   "cell_type": "code",
   "execution_count": null,
   "id": "aa7e8fa6",
   "metadata": {},
   "outputs": [],
   "source": [
    "# Goals: to find 800 repository and get ML to classify its language"
   ]
  },
  {
   "cell_type": "markdown",
   "id": "72b0013b",
   "metadata": {},
   "source": [
    "# ACQUIRE"
   ]
  },
  {
   "cell_type": "code",
   "execution_count": 30,
   "id": "f48ee9ae",
   "metadata": {},
   "outputs": [],
   "source": [
    "# import\n",
    "import requests\n",
    "import json\n",
    "from bs4 import BeautifulSoup"
   ]
  },
  {
   "cell_type": "code",
   "execution_count": 31,
   "id": "937d577a",
   "metadata": {},
   "outputs": [],
   "source": [
    "# set up API request headers\n",
    "from env import github_token, github_username\n",
    "\n",
    "headers = {\n",
    "    \"Authorization\": f\"token {github_token}\",\n",
    "    \"User-Agent\": github_username\n",
    "}"
   ]
  },
  {
   "cell_type": "code",
   "execution_count": 32,
   "id": "9e7a7ca7",
   "metadata": {},
   "outputs": [],
   "source": [
    "# make API requests to get repository names\n",
    "language = \"python\"\n",
    "api_url = f\"https://api.github.com/search/repositories?q=language:{language}&sort=stars&order=desc&per_page=100\"\n",
    "response = requests.get(api_url, headers=headers)\n",
    "\n",
    "if response.status_code == 200:\n",
    "    repositories = response.json()[\"items\"]\n",
    "else:\n",
    "    print(f\"Failed to fetch repository list. Status code: {response.status_code}\")\n",
    "    exit()"
   ]
  },
  {
   "cell_type": "markdown",
   "id": "a1b6a075",
   "metadata": {},
   "source": [
    "Goal: add all these results to a list, then find a way to go through and request another 10 results with always adding them to a list. clean up emphasis text from entries"
   ]
  },
  {
   "cell_type": "code",
   "execution_count": 33,
   "id": "c7828a6c",
   "metadata": {},
   "outputs": [],
   "source": [
    "import requests\n",
    "import json\n",
    "from env import github_token, github_username\n",
    "\n",
    "# Define the headers with your token and username\n",
    "headers = {\n",
    "    \"Authorization\": f\"token {github_token}\",\n",
    "    \"User-Agent\": github_username\n",
    "}\n",
    "\n",
    "# Define a function to get repositories based on a query and page\n",
    "def get_repositories(query, sort=\"stars\", order=\"desc\", page=1):\n",
    "    base_url = \"https://api.github.com/search/repositories\"\n",
    "    params = {\n",
    "        \"q\": query,\n",
    "        \"sort\": sort,\n",
    "        \"order\": order,\n",
    "        \"per_page\": 10,  # You can get up to 100 results per page.\n",
    "        \"page\": page  # Specify the page number\n",
    "    }\n",
    "    response = requests.get(base_url, headers=headers, params=params)\n",
    "    if response.status_code == 200:\n",
    "        return response.json()\n",
    "    else:\n",
    "        return None\n",
    "\n",
    "# Search for breast cancer related repositories and handle pagination\n",
    "query = \"breast cancer\"\n",
    "page = 1\n",
    "\n",
    "# Create a list to collect the repository data\n",
    "repository_data = []\n",
    "\n",
    "while page <= 10:\n",
    "    response_json = get_repositories(query, page=page)\n",
    "    if response_json is None:\n",
    "        print(f\"Failed to fetch page {page} of repositories.\")\n",
    "        break\n",
    "\n",
    "    # Extract and collect repository names\n",
    "    for repo in response_json[\"items\"]:\n",
    "        repository_data.append({\n",
    "            \"full_name\": repo[\"full_name\"]\n",
    "        })\n",
    "\n",
    "    # Check if there are more pages\n",
    "    if \"Link\" in response.headers:\n",
    "        next_link = response.headers[\"Link\"]\n",
    "        if 'rel=\"next\"' not in next_link:\n",
    "            break\n",
    "    else:\n",
    "        break\n",
    "    page += 1\n"
   ]
  },
  {
   "cell_type": "code",
   "execution_count": 34,
   "id": "384ee963",
   "metadata": {},
   "outputs": [
    {
     "name": "stdout",
     "output_type": "stream",
     "text": [
      "Data saved to data2.json\n"
     ]
    }
   ],
   "source": [
    "# ... (Previous code remains the same)\n",
    "\n",
    "# Extract only the repository names from the dictionaries\n",
    "repository_names = [repo_data[\"full_name\"] for repo_data in repository_data]\n",
    "\n",
    "# Save the repository names list to a JSON file\n",
    "with open(\"breast_cancer_repository.json\", \"w\") as json_file:\n",
    "    json.dump(repository_names, json_file, indent=2)\n",
    "\n",
    "print(\"Data saved to data2.json\")\n"
   ]
  },
  {
   "cell_type": "code",
   "execution_count": 35,
   "id": "d5f36539",
   "metadata": {},
   "outputs": [
    {
     "data": {
      "text/html": [
       "<div>\n",
       "<style scoped>\n",
       "    .dataframe tbody tr th:only-of-type {\n",
       "        vertical-align: middle;\n",
       "    }\n",
       "\n",
       "    .dataframe tbody tr th {\n",
       "        vertical-align: top;\n",
       "    }\n",
       "\n",
       "    .dataframe thead th {\n",
       "        text-align: right;\n",
       "    }\n",
       "</style>\n",
       "<table border=\"1\" class=\"dataframe\">\n",
       "  <thead>\n",
       "    <tr style=\"text-align: right;\">\n",
       "      <th></th>\n",
       "      <th>0</th>\n",
       "    </tr>\n",
       "  </thead>\n",
       "  <tbody>\n",
       "    <tr>\n",
       "      <th>0</th>\n",
       "      <td>nyukat/breast_cancer_classifier</td>\n",
       "    </tr>\n",
       "    <tr>\n",
       "      <th>1</th>\n",
       "      <td>lishen/end2end-all-conv</td>\n",
       "    </tr>\n",
       "    <tr>\n",
       "      <th>2</th>\n",
       "      <td>ImagingLab/ICIAR2018</td>\n",
       "    </tr>\n",
       "    <tr>\n",
       "      <th>3</th>\n",
       "      <td>Jean-njoroge/Breast-cancer-risk-prediction</td>\n",
       "    </tr>\n",
       "    <tr>\n",
       "      <th>4</th>\n",
       "      <td>abhinavsagar/breast-cancer-classification</td>\n",
       "    </tr>\n",
       "    <tr>\n",
       "      <th>...</th>\n",
       "      <td>...</td>\n",
       "    </tr>\n",
       "    <tr>\n",
       "      <th>95</th>\n",
       "      <td>BishalDali/Breast_Cancer_Prediction</td>\n",
       "    </tr>\n",
       "    <tr>\n",
       "      <th>96</th>\n",
       "      <td>IndianAIProduction-Channel/Breast-Cancer-Detec...</td>\n",
       "    </tr>\n",
       "    <tr>\n",
       "      <th>97</th>\n",
       "      <td>gmineo/Breast-Cancer-Prediction-Project</td>\n",
       "    </tr>\n",
       "    <tr>\n",
       "      <th>98</th>\n",
       "      <td>iharnoor/BreastCancer-Kmeans</td>\n",
       "    </tr>\n",
       "    <tr>\n",
       "      <th>99</th>\n",
       "      <td>sagnikghoshcr7/Breast-Cancer-Prediction</td>\n",
       "    </tr>\n",
       "  </tbody>\n",
       "</table>\n",
       "<p>100 rows × 1 columns</p>\n",
       "</div>"
      ],
      "text/plain": [
       "                                                    0\n",
       "0                     nyukat/breast_cancer_classifier\n",
       "1                             lishen/end2end-all-conv\n",
       "2                                ImagingLab/ICIAR2018\n",
       "3          Jean-njoroge/Breast-cancer-risk-prediction\n",
       "4           abhinavsagar/breast-cancer-classification\n",
       "..                                                ...\n",
       "95                BishalDali/Breast_Cancer_Prediction\n",
       "96  IndianAIProduction-Channel/Breast-Cancer-Detec...\n",
       "97            gmineo/Breast-Cancer-Prediction-Project\n",
       "98                       iharnoor/BreastCancer-Kmeans\n",
       "99            sagnikghoshcr7/Breast-Cancer-Prediction\n",
       "\n",
       "[100 rows x 1 columns]"
      ]
     },
     "execution_count": 35,
     "metadata": {},
     "output_type": "execute_result"
    }
   ],
   "source": [
    "df = pd.read_json('data2.json')\n",
    "df"
   ]
  },
  {
   "cell_type": "markdown",
   "id": "9c79beaf",
   "metadata": {},
   "source": [
    "# Prep phase"
   ]
  },
  {
   "cell_type": "code",
   "execution_count": 36,
   "id": "3cb8e61a",
   "metadata": {},
   "outputs": [],
   "source": [
    "import unicodedata\n",
    "import re\n",
    "import json\n",
    "\n",
    "\n",
    "import nltk\n",
    "from nltk.tokenize.toktok import ToktokTokenizer\n",
    "from nltk.corpus import stopwords\n",
    "\n",
    "import pandas as pd\n",
    "\n"
   ]
  },
  {
   "cell_type": "code",
   "execution_count": 51,
   "id": "4362b496",
   "metadata": {},
   "outputs": [],
   "source": [
    "df = df.rename(columns={0: 'repository'})\n"
   ]
  },
  {
   "cell_type": "code",
   "execution_count": 50,
   "id": "a6670c79",
   "metadata": {},
   "outputs": [
    {
     "data": {
      "text/html": [
       "<div>\n",
       "<style scoped>\n",
       "    .dataframe tbody tr th:only-of-type {\n",
       "        vertical-align: middle;\n",
       "    }\n",
       "\n",
       "    .dataframe tbody tr th {\n",
       "        vertical-align: top;\n",
       "    }\n",
       "\n",
       "    .dataframe thead th {\n",
       "        text-align: right;\n",
       "    }\n",
       "</style>\n",
       "<table border=\"1\" class=\"dataframe\">\n",
       "  <thead>\n",
       "    <tr style=\"text-align: right;\">\n",
       "      <th></th>\n",
       "      <th>repository</th>\n",
       "    </tr>\n",
       "  </thead>\n",
       "  <tbody>\n",
       "    <tr>\n",
       "      <th>0</th>\n",
       "      <td>nyukat/breast_cancer_classifier</td>\n",
       "    </tr>\n",
       "    <tr>\n",
       "      <th>1</th>\n",
       "      <td>lishen/end2end-all-conv</td>\n",
       "    </tr>\n",
       "    <tr>\n",
       "      <th>2</th>\n",
       "      <td>imaginglab/iciar2018</td>\n",
       "    </tr>\n",
       "    <tr>\n",
       "      <th>3</th>\n",
       "      <td>jean-njoroge/breast-cancer-risk-prediction</td>\n",
       "    </tr>\n",
       "    <tr>\n",
       "      <th>4</th>\n",
       "      <td>abhinavsagar/breast-cancer-classification</td>\n",
       "    </tr>\n",
       "    <tr>\n",
       "      <th>...</th>\n",
       "      <td>...</td>\n",
       "    </tr>\n",
       "    <tr>\n",
       "      <th>95</th>\n",
       "      <td>bishaldali/breast_cancer_prediction</td>\n",
       "    </tr>\n",
       "    <tr>\n",
       "      <th>96</th>\n",
       "      <td>indianaiproduction-channel/breast-cancer-detec...</td>\n",
       "    </tr>\n",
       "    <tr>\n",
       "      <th>97</th>\n",
       "      <td>gmineo/breast-cancer-prediction-project</td>\n",
       "    </tr>\n",
       "    <tr>\n",
       "      <th>98</th>\n",
       "      <td>iharnoor/breastcancer-kmeans</td>\n",
       "    </tr>\n",
       "    <tr>\n",
       "      <th>99</th>\n",
       "      <td>sagnikghoshcr7/breast-cancer-prediction</td>\n",
       "    </tr>\n",
       "  </tbody>\n",
       "</table>\n",
       "<p>100 rows × 1 columns</p>\n",
       "</div>"
      ],
      "text/plain": [
       "                                           repository\n",
       "0                     nyukat/breast_cancer_classifier\n",
       "1                             lishen/end2end-all-conv\n",
       "2                                imaginglab/iciar2018\n",
       "3          jean-njoroge/breast-cancer-risk-prediction\n",
       "4           abhinavsagar/breast-cancer-classification\n",
       "..                                                ...\n",
       "95                bishaldali/breast_cancer_prediction\n",
       "96  indianaiproduction-channel/breast-cancer-detec...\n",
       "97            gmineo/breast-cancer-prediction-project\n",
       "98                       iharnoor/breastcancer-kmeans\n",
       "99            sagnikghoshcr7/breast-cancer-prediction\n",
       "\n",
       "[100 rows x 1 columns]"
      ]
     },
     "execution_count": 50,
     "metadata": {},
     "output_type": "execute_result"
    }
   ],
   "source": [
    "df['repository'] = df['repository'].str.lower()\n",
    "df"
   ]
  },
  {
   "cell_type": "code",
   "execution_count": null,
   "id": "d13a7038",
   "metadata": {},
   "outputs": [],
   "source": []
  },
  {
   "cell_type": "code",
   "execution_count": null,
   "id": "0d2f5f3f",
   "metadata": {},
   "outputs": [],
   "source": []
  },
  {
   "cell_type": "code",
   "execution_count": null,
   "id": "14d17003",
   "metadata": {},
   "outputs": [],
   "source": []
  },
  {
   "cell_type": "code",
   "execution_count": null,
   "id": "299c1123",
   "metadata": {},
   "outputs": [],
   "source": []
  },
  {
   "cell_type": "code",
   "execution_count": 53,
   "id": "ddcb804f",
   "metadata": {},
   "outputs": [
    {
     "name": "stdout",
     "output_type": "stream",
     "text": [
      "                                           repository\n",
      "0                     nyukat/breast_cancer_classifier\n",
      "1                             lishen/end2end-all-conv\n",
      "2                                imaginglab/iciar2018\n",
      "3          jean-njoroge/breast-cancer-risk-prediction\n",
      "4           abhinavsagar/breast-cancer-classification\n",
      "..                                                ...\n",
      "95                bishaldali/breast_cancer_prediction\n",
      "96  indianaiproduction-channel/breast-cancer-detec...\n",
      "97            gmineo/breast-cancer-prediction-project\n",
      "98                       iharnoor/breastcancer-kmeans\n",
      "99            sagnikghoshcr7/breast-cancer-prediction\n",
      "\n",
      "[100 rows x 1 columns]\n"
     ]
    }
   ],
   "source": [
    "# Apply the normalization and cleaning operations to the 'repository' column\n",
    "df['repository'] = df['repository'].apply(lambda x: unicodedata.normalize('NFKD', x)\\\n",
    "    .encode('ascii', 'ignore')\\\n",
    "    .decode('utf-8', 'ignore'))\n",
    "\n",
    "# Now, the 'repository' column contains cleaned text with non-ASCII characters removed\n",
    "print(df)"
   ]
  },
  {
   "cell_type": "code",
   "execution_count": 56,
   "id": "7df39b90",
   "metadata": {},
   "outputs": [
    {
     "name": "stdout",
     "output_type": "stream",
     "text": [
      "                                           repository\n",
      "0                        nyukatbreastcancerclassifier\n",
      "1                                lishenend2endallconv\n",
      "2                                 imaginglabiciar2018\n",
      "3               jeannjorogebreastcancerriskprediction\n",
      "4              abhinavsagarbreastcancerclassification\n",
      "..                                                ...\n",
      "95                   bishaldalibreastcancerprediction\n",
      "96  indianaiproductionchannelbreastcancerdetectionapp\n",
      "97                gmineobreastcancerpredictionproject\n",
      "98                         iharnoorbreastcancerkmeans\n",
      "99               sagnikghoshcr7breastcancerprediction\n",
      "\n",
      "[100 rows x 1 columns]\n"
     ]
    }
   ],
   "source": [
    "# Apply the regex substitution to the 'text' column\n",
    "df['repository'] = df['repository'].apply(lambda x: re.sub(r\"[^a-z0-9'\\s]\", '', x))\n",
    "\n",
    "# Now, the 'text' column contains cleaned text with unwanted characters removed\n",
    "print(df)"
   ]
  },
  {
   "cell_type": "code",
   "execution_count": 57,
   "id": "e21ab99e",
   "metadata": {},
   "outputs": [
    {
     "name": "stdout",
     "output_type": "stream",
     "text": [
      "repository\n",
      "0 nyukatbreastcancerclassifier\n",
      "1 lishenend2endallconv\n",
      "2 imaginglabiciar2018\n",
      "3 jeannjorogebreastcancerriskprediction\n",
      "4 abhinavsagarbreastcancerclassification\n",
      " .. ... \n",
      "95 bishaldalibreastcancerprediction\n",
      "96 indianaiproductionchannelbreastcancerdetectionapp\n",
      "97 gmineobreastcancerpredictionproject\n",
      "98 iharnoorbreastcancerkmeans\n",
      "99 sagnikghoshcr7breastcancerprediction\n",
      "\n",
      "[ 100 rows x 1 columns ]\n"
     ]
    }
   ],
   "source": [
    "# tokenization\n",
    "\n",
    "tokenizer = nltk.tokenize.ToktokTokenizer()\n",
    "\n",
    "print(tokenizer.tokenize(df, return_str=True)[0:500])"
   ]
  },
  {
   "cell_type": "code",
   "execution_count": null,
   "id": "83f09c2c",
   "metadata": {},
   "outputs": [],
   "source": []
  }
 ],
 "metadata": {
  "kernelspec": {
   "display_name": "Python 3 (ipykernel)",
   "language": "python",
   "name": "python3"
  },
  "language_info": {
   "codemirror_mode": {
    "name": "ipython",
    "version": 3
   },
   "file_extension": ".py",
   "mimetype": "text/x-python",
   "name": "python",
   "nbconvert_exporter": "python",
   "pygments_lexer": "ipython3",
   "version": "3.10.9"
  }
 },
 "nbformat": 4,
 "nbformat_minor": 5
}
