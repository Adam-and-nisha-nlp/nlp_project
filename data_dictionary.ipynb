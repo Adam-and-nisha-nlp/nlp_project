{
 "cells": [
  {
   "cell_type": "markdown",
   "id": "52ac4b93-67e9-480b-a923-ab2570e4a3fa",
   "metadata": {},
   "source": [
    "| Feature            | Definiton | \n",
    "| :---------------- | :------ | \n",
    "| Repo      |   The name of the repository  | \n",
    "| Language         |  The primary programming language used   | \n",
    "| Readme_Contents    |  The contents of the readme(english language text)  | \n"
   ]
  },
  {
   "cell_type": "code",
   "execution_count": null,
   "id": "228aa8a3-ad8a-4fbd-90f0-3c289934092c",
   "metadata": {},
   "outputs": [],
   "source": []
  }
 ],
 "metadata": {
  "kernelspec": {
   "display_name": "Python 3 (ipykernel)",
   "language": "python",
   "name": "python3"
  },
  "language_info": {
   "codemirror_mode": {
    "name": "ipython",
    "version": 3
   },
   "file_extension": ".py",
   "mimetype": "text/x-python",
   "name": "python",
   "nbconvert_exporter": "python",
   "pygments_lexer": "ipython3",
   "version": "3.10.12"
  }
 },
 "nbformat": 4,
 "nbformat_minor": 5
}
