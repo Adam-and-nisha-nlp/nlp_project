{
 "cells": [
  {
   "cell_type": "code",
   "execution_count": 1,
   "id": "7ceeb9e9",
   "metadata": {},
   "outputs": [],
   "source": [
    "import requests\n",
    "import json\n",
    "from env import github_token, github_username\n",
    "import os\n",
    "import wrangle"
   ]
  },
  {
   "cell_type": "code",
   "execution_count": 6,
   "id": "9cdc9c2d",
   "metadata": {},
   "outputs": [
    {
     "ename": "NameError",
     "evalue": "name 'scrape_breast_cancer_repositories' is not defined",
     "output_type": "error",
     "traceback": [
      "\u001b[0;31m---------------------------------------------------------------------------\u001b[0m",
      "\u001b[0;31mNameError\u001b[0m                                 Traceback (most recent call last)",
      "Cell \u001b[0;32mIn[6], line 2\u001b[0m\n\u001b[1;32m      1\u001b[0m \u001b[38;5;66;03m# Call the scrape_breast_cancer_repositories function\u001b[39;00m\n\u001b[0;32m----> 2\u001b[0m scraped_repositories \u001b[38;5;241m=\u001b[39m \u001b[43mscrape_breast_cancer_repositories\u001b[49m()\n\u001b[1;32m      3\u001b[0m \u001b[38;5;28mprint\u001b[39m(\u001b[38;5;124mf\u001b[39m\u001b[38;5;124m\"\u001b[39m\u001b[38;5;124mScraped \u001b[39m\u001b[38;5;132;01m{\u001b[39;00m\u001b[38;5;28mlen\u001b[39m(scraped_repositories)\u001b[38;5;132;01m}\u001b[39;00m\u001b[38;5;124m breast cancer repositories.\u001b[39m\u001b[38;5;124m\"\u001b[39m)\n",
      "\u001b[0;31mNameError\u001b[0m: name 'scrape_breast_cancer_repositories' is not defined"
     ]
    }
   ],
   "source": [
    "# Call the scrape_breast_cancer_repositories function\n",
    "scraped_repositories = scrape_breast_cancer_repositories()\n",
    "print(f\"Scraped {len(scraped_repositories)} breast cancer repositories.\")\n"
   ]
  },
  {
   "cell_type": "code",
   "execution_count": null,
   "id": "b0878410",
   "metadata": {},
   "outputs": [],
   "source": []
  }
 ],
 "metadata": {
  "kernelspec": {
   "display_name": "Python 3 (ipykernel)",
   "language": "python",
   "name": "python3"
  },
  "language_info": {
   "codemirror_mode": {
    "name": "ipython",
    "version": 3
   },
   "file_extension": ".py",
   "mimetype": "text/x-python",
   "name": "python",
   "nbconvert_exporter": "python",
   "pygments_lexer": "ipython3",
   "version": "3.10.9"
  }
 },
 "nbformat": 4,
 "nbformat_minor": 5
}
